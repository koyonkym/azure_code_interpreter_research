{
 "cells": [
  {
   "cell_type": "markdown",
   "metadata": {},
   "source": [
    "#### GPT"
   ]
  },
  {
   "cell_type": "markdown",
   "metadata": {},
   "source": [
    "Reference:\n",
    "- https://learn.microsoft.com/en-us/azure/ai-services/openai/how-to/chatgpt?tabs=python-new&pivots=programming-language-chat-completions"
   ]
  },
  {
   "cell_type": "code",
   "execution_count": 26,
   "metadata": {},
   "outputs": [],
   "source": [
    "import yaml\n",
    "\n",
    "file_path = \"credentials.yaml\"\n",
    "\n",
    "with open(file_path, \"r\") as file:\n",
    "    credentials = yaml.load(file, Loader=yaml.FullLoader)"
   ]
  },
  {
   "cell_type": "code",
   "execution_count": 7,
   "metadata": {},
   "outputs": [
    {
     "name": "stdout",
     "output_type": "stream",
     "text": [
      "{\n",
      "  \"id\": \"chatcmpl-8wR0YCq6zbGCFNjAdSok4f7Pb6aM0\",\n",
      "  \"choices\": [\n",
      "    {\n",
      "      \"finish_reason\": \"stop\",\n",
      "      \"index\": 0,\n",
      "      \"logprobs\": null,\n",
      "      \"message\": {\n",
      "        \"content\": \"The founders of Microsoft are Bill Gates and Paul Allen. They established the company on April 4, 1975.\",\n",
      "        \"role\": \"assistant\",\n",
      "        \"function_call\": null,\n",
      "        \"tool_calls\": null\n",
      "      },\n",
      "      \"content_filter_results\": {\n",
      "        \"hate\": {\n",
      "          \"filtered\": false,\n",
      "          \"severity\": \"safe\"\n",
      "        },\n",
      "        \"self_harm\": {\n",
      "          \"filtered\": false,\n",
      "          \"severity\": \"safe\"\n",
      "        },\n",
      "        \"sexual\": {\n",
      "          \"filtered\": false,\n",
      "          \"severity\": \"safe\"\n",
      "        },\n",
      "        \"violence\": {\n",
      "          \"filtered\": false,\n",
      "          \"severity\": \"safe\"\n",
      "        }\n",
      "      }\n",
      "    }\n",
      "  ],\n",
      "  \"created\": 1708937534,\n",
      "  \"model\": \"gpt-35-turbo-16k\",\n",
      "  \"object\": \"chat.completion\",\n",
      "  \"system_fingerprint\": null,\n",
      "  \"usage\": {\n",
      "    \"completion_tokens\": 24,\n",
      "    \"prompt_tokens\": 29,\n",
      "    \"total_tokens\": 53\n",
      "  },\n",
      "  \"prompt_filter_results\": [\n",
      "    {\n",
      "      \"prompt_index\": 0,\n",
      "      \"content_filter_results\": {\n",
      "        \"hate\": {\n",
      "          \"filtered\": false,\n",
      "          \"severity\": \"safe\"\n",
      "        },\n",
      "        \"self_harm\": {\n",
      "          \"filtered\": false,\n",
      "          \"severity\": \"safe\"\n",
      "        },\n",
      "        \"sexual\": {\n",
      "          \"filtered\": false,\n",
      "          \"severity\": \"safe\"\n",
      "        },\n",
      "        \"violence\": {\n",
      "          \"filtered\": false,\n",
      "          \"severity\": \"safe\"\n",
      "        }\n",
      "      }\n",
      "    }\n",
      "  ]\n",
      "}\n",
      "The founders of Microsoft are Bill Gates and Paul Allen. They established the company on April 4, 1975.\n"
     ]
    }
   ],
   "source": [
    "from openai import AzureOpenAI\n",
    "\n",
    "client = AzureOpenAI(\n",
    "  api_key = credentials[\"openai\"][\"key\"],  \n",
    "  api_version = credentials[\"openai\"][\"version\"],\n",
    "  azure_endpoint = credentials[\"openai\"][\"endpoint\"]\n",
    ")\n",
    "\n",
    "response = client.chat.completions.create(\n",
    "    model=\"35-model\", # model = \"deployment_name\".\n",
    "    messages=[\n",
    "        {\"role\": \"system\", \"content\": \"Assistant is a large language model trained by OpenAI.\"},\n",
    "        {\"role\": \"user\", \"content\": \"Who were the founders of Microsoft?\"}\n",
    "    ]\n",
    ")\n",
    "\n",
    "#print(response)\n",
    "print(response.model_dump_json(indent=2))\n",
    "print(response.choices[0].message.content)"
   ]
  },
  {
   "cell_type": "code",
   "execution_count": 8,
   "metadata": {},
   "outputs": [],
   "source": [
    "content = \"Microsoft Copilot とは何ですか？\""
   ]
  },
  {
   "cell_type": "code",
   "execution_count": 10,
   "metadata": {},
   "outputs": [],
   "source": [
    "from azure.core.credentials import AzureKeyCredential\n",
    "from azure.ai.textanalytics import TextAnalyticsClient\n",
    "endpoint = credentials[\"text_analytics\"][\"endpoint\"]\n",
    "key = credentials[\"text_analytics\"][\"key\"]\n",
    "\n",
    "text_analytics_client = TextAnalyticsClient(endpoint, AzureKeyCredential(key))"
   ]
  },
  {
   "cell_type": "code",
   "execution_count": 11,
   "metadata": {},
   "outputs": [],
   "source": [
    "entities_result = text_analytics_client.recognize_entities([content], language=\"ja\")"
   ]
  },
  {
   "cell_type": "code",
   "execution_count": 12,
   "metadata": {},
   "outputs": [],
   "source": [
    "key_phrases_result = text_analytics_client.extract_key_phrases([content], language=\"ja\")"
   ]
  },
  {
   "cell_type": "code",
   "execution_count": 13,
   "metadata": {},
   "outputs": [
    {
     "data": {
      "text/plain": [
       "[RecognizeEntitiesResult(id=0, entities=[CategorizedEntity(text=Microsoft, category=Organization, subcategory=None, length=9, offset=0, confidence_score=0.81)], warnings=[], statistics=None, is_error=False, kind=EntityRecognition)]"
      ]
     },
     "execution_count": 13,
     "metadata": {},
     "output_type": "execute_result"
    }
   ],
   "source": [
    "entities_result"
   ]
  },
  {
   "cell_type": "code",
   "execution_count": 14,
   "metadata": {},
   "outputs": [
    {
     "data": {
      "text/plain": [
       "[ExtractKeyPhrasesResult(id=0, key_phrases=['Microsoft Copilot'], warnings=[], statistics=None, is_error=False, kind=KeyPhraseExtraction)]"
      ]
     },
     "execution_count": 14,
     "metadata": {},
     "output_type": "execute_result"
    }
   ],
   "source": [
    "key_phrases_result"
   ]
  },
  {
   "cell_type": "code",
   "execution_count": 20,
   "metadata": {},
   "outputs": [],
   "source": [
    "search_words = []"
   ]
  },
  {
   "cell_type": "code",
   "execution_count": 21,
   "metadata": {},
   "outputs": [],
   "source": [
    "for idx, review in enumerate(entities_result):\n",
    "    for entity in review.entities:\n",
    "        search_words.append(entity.text)"
   ]
  },
  {
   "cell_type": "code",
   "execution_count": 22,
   "metadata": {},
   "outputs": [
    {
     "data": {
      "text/plain": [
       "['Microsoft']"
      ]
     },
     "execution_count": 22,
     "metadata": {},
     "output_type": "execute_result"
    }
   ],
   "source": [
    "search_words"
   ]
  },
  {
   "cell_type": "code",
   "execution_count": 24,
   "metadata": {},
   "outputs": [],
   "source": [
    "for idx, doc in enumerate(key_phrases_result):\n",
    "    if not doc.is_error:\n",
    "        for key_phrase in doc.key_phrases:\n",
    "            search_words.append(key_phrase)"
   ]
  },
  {
   "cell_type": "code",
   "execution_count": 25,
   "metadata": {},
   "outputs": [
    {
     "data": {
      "text/plain": [
       "['Microsoft', 'Microsoft Copilot']"
      ]
     },
     "execution_count": 25,
     "metadata": {},
     "output_type": "execute_result"
    }
   ],
   "source": [
    "search_words"
   ]
  },
  {
   "cell_type": "code",
   "execution_count": 27,
   "metadata": {},
   "outputs": [],
   "source": [
    "subscription_key = credentials[\"web_search\"][\"key\"]\n",
    "assert subscription_key"
   ]
  },
  {
   "cell_type": "code",
   "execution_count": 28,
   "metadata": {},
   "outputs": [],
   "source": [
    "search_url = \"https://api.bing.microsoft.com/v7.0/search\""
   ]
  },
  {
   "cell_type": "code",
   "execution_count": 29,
   "metadata": {},
   "outputs": [],
   "source": [
    "search_term = \" \".join(search_words)"
   ]
  },
  {
   "cell_type": "code",
   "execution_count": 34,
   "metadata": {},
   "outputs": [
    {
     "data": {
      "text/plain": [
       "'Microsoft Microsoft Copilot'"
      ]
     },
     "execution_count": 34,
     "metadata": {},
     "output_type": "execute_result"
    }
   ],
   "source": [
    "search_term"
   ]
  },
  {
   "cell_type": "code",
   "execution_count": 30,
   "metadata": {},
   "outputs": [],
   "source": [
    "import requests"
   ]
  },
  {
   "cell_type": "code",
   "execution_count": 31,
   "metadata": {},
   "outputs": [],
   "source": [
    "headers = {\"Ocp-Apim-Subscription-Key\": subscription_key}\n",
    "params = {\"q\": search_term, \"textDecorations\": True, \"textFormat\": \"HTML\"}\n",
    "response = requests.get(search_url, headers=headers, params=params)\n",
    "response.raise_for_status()\n",
    "search_results = response.json()"
   ]
  },
  {
   "cell_type": "code",
   "execution_count": 32,
   "metadata": {},
   "outputs": [],
   "source": [
    "def get_reference(response: requests.models.Response) -> str:\n",
    "    search_results = response.json()\n",
    "    reference = \"\"\n",
    "    for v in search_results[\"webPages\"][\"value\"]:\n",
    "        print(v[\"snippet\"])\n",
    "        reference += v[\"snippet\"]\n",
    "        reference += \"\\n\"\n",
    "    return reference"
   ]
  },
  {
   "cell_type": "code",
   "execution_count": 33,
   "metadata": {},
   "outputs": [
    {
     "name": "stdout",
     "output_type": "stream",
     "text": [
      "<b>Copilot</b> を一部の <b>Microsoft</b> 365 アプリの中で使用する 1 これまで以上に優れた作成を実現 最適な <b>Copilot</b> エクスペリエンスを見つける <b>Copilot</b> 無料バージョンの <b>Copilot</b> をお試しください <b>Copilot</b> Pro 1 <b>Copilot</b> Pro を探索する <b>Copilot</b> for <b>Microsoft</b> 365 <b>Copilot</b> for <b>Microsoft</b> 365 を探索する エクスペリエンスを高める AI 搭載の検索 詳細情報 <b>Copilot</b> を使用してビジネスの未来を形成する さらに詳しく知る 最重要事項を確認する AI を使用してすべてのロールを強化する <b>Microsoft</b> <b>Copilot</b> for Sales を探索する\n",
      "<b>Microsoft</b> <b>Copilot</b> leverages the power of AI to boost productivity, unlock creativity, and helps you understand information better with a simple chat experience. Get the app Sign in to experience <b>Microsoft</b> <b>Copilot</b>\n",
      "*A <b>Microsoft</b> 365 Business Standard or <b>Microsoft</b> 365 Business Premium license is required to purchase <b>Copilot</b> for <b>Microsoft</b> 365. Enhance your experiences Whatever you’re into—browsing the web, searching for answers, exploring your creative potential, or coming up with more useful content, <b>Copilot</b> can help you uncover new possibilities.\n"
     ]
    }
   ],
   "source": [
    "reference = get_reference(response)"
   ]
  },
  {
   "cell_type": "code",
   "execution_count": 35,
   "metadata": {},
   "outputs": [],
   "source": [
    "modified_content = \"必要に応じてcontextの情報を参考にし、以下の質問に答えてください。\\n\" + content + \"\\n### context ###\\n\" + reference"
   ]
  },
  {
   "cell_type": "code",
   "execution_count": 36,
   "metadata": {},
   "outputs": [
    {
     "name": "stdout",
     "output_type": "stream",
     "text": [
      "{\n",
      "  \"id\": \"chatcmpl-8wRkb2TlzjLTR0EeFWeqk3QF0OYZU\",\n",
      "  \"choices\": [\n",
      "    {\n",
      "      \"finish_reason\": \"stop\",\n",
      "      \"index\": 0,\n",
      "      \"logprobs\": null,\n",
      "      \"message\": {\n",
      "        \"content\": \"Microsoft Copilotは、AIの力を活用して生産性を向上させ、創造力を引き出し、シンプルなチャット体験で情報を理解するのに役立つものです。Microsoft 365 Business StandardまたはMicrosoft 365 Business Premiumライセンスが必要です。Copilotは、ウェブ閲覧、回答の検索、創造的なポテンシャルの探求、より有用なコンテンツの作成など、さまざまな体験を向上させるために役立ちます。\",\n",
      "        \"role\": \"assistant\",\n",
      "        \"function_call\": null,\n",
      "        \"tool_calls\": null\n",
      "      },\n",
      "      \"content_filter_results\": {\n",
      "        \"hate\": {\n",
      "          \"filtered\": false,\n",
      "          \"severity\": \"safe\"\n",
      "        },\n",
      "        \"self_harm\": {\n",
      "          \"filtered\": false,\n",
      "          \"severity\": \"safe\"\n",
      "        },\n",
      "        \"sexual\": {\n",
      "          \"filtered\": false,\n",
      "          \"severity\": \"safe\"\n",
      "        },\n",
      "        \"violence\": {\n",
      "          \"filtered\": false,\n",
      "          \"severity\": \"safe\"\n",
      "        }\n",
      "      }\n",
      "    }\n",
      "  ],\n",
      "  \"created\": 1708940389,\n",
      "  \"model\": \"gpt-35-turbo-16k\",\n",
      "  \"object\": \"chat.completion\",\n",
      "  \"system_fingerprint\": null,\n",
      "  \"usage\": {\n",
      "    \"completion_tokens\": 161,\n",
      "    \"prompt_tokens\": 492,\n",
      "    \"total_tokens\": 653\n",
      "  },\n",
      "  \"prompt_filter_results\": [\n",
      "    {\n",
      "      \"prompt_index\": 0,\n",
      "      \"content_filter_results\": {\n",
      "        \"hate\": {\n",
      "          \"filtered\": false,\n",
      "          \"severity\": \"safe\"\n",
      "        },\n",
      "        \"self_harm\": {\n",
      "          \"filtered\": false,\n",
      "          \"severity\": \"safe\"\n",
      "        },\n",
      "        \"sexual\": {\n",
      "          \"filtered\": false,\n",
      "          \"severity\": \"safe\"\n",
      "        },\n",
      "        \"violence\": {\n",
      "          \"filtered\": false,\n",
      "          \"severity\": \"safe\"\n",
      "        }\n",
      "      }\n",
      "    }\n",
      "  ]\n",
      "}\n",
      "Microsoft Copilotは、AIの力を活用して生産性を向上させ、創造力を引き出し、シンプルなチャット体験で情報を理解するのに役立つものです。Microsoft 365 Business StandardまたはMicrosoft 365 Business Premiumライセンスが必要です。Copilotは、ウェブ閲覧、回答の検索、創造的なポテンシャルの探求、より有用なコンテンツの作成など、さまざまな体験を向上させるために役立ちます。\n"
     ]
    }
   ],
   "source": [
    "from openai import AzureOpenAI\n",
    "\n",
    "client = AzureOpenAI(\n",
    "  api_key = credentials[\"openai\"][\"key\"],  \n",
    "  api_version = credentials[\"openai\"][\"version\"],\n",
    "  azure_endpoint = credentials[\"openai\"][\"endpoint\"]\n",
    ")\n",
    "\n",
    "response = client.chat.completions.create(\n",
    "    model=\"35-model\", # model = \"deployment_name\".\n",
    "    messages=[\n",
    "        {\"role\": \"user\", \"content\": modified_content}\n",
    "    ]\n",
    ")\n",
    "\n",
    "#print(response)\n",
    "print(response.model_dump_json(indent=2))\n",
    "print(response.choices[0].message.content)"
   ]
  },
  {
   "cell_type": "code",
   "execution_count": null,
   "metadata": {},
   "outputs": [],
   "source": []
  }
 ],
 "metadata": {
  "kernelspec": {
   "display_name": ".venv",
   "language": "python",
   "name": "python3"
  },
  "language_info": {
   "codemirror_mode": {
    "name": "ipython",
    "version": 3
   },
   "file_extension": ".py",
   "mimetype": "text/x-python",
   "name": "python",
   "nbconvert_exporter": "python",
   "pygments_lexer": "ipython3",
   "version": "3.11.4"
  }
 },
 "nbformat": 4,
 "nbformat_minor": 2
}
