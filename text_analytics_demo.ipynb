{
 "cells": [
  {
   "cell_type": "markdown",
   "metadata": {},
   "source": [
    "#### Text Analytics"
   ]
  },
  {
   "cell_type": "markdown",
   "metadata": {},
   "source": [
    "Reference:\n",
    "- https://learn.microsoft.com/en-us/python/api/overview/azure/ai-textanalytics-readme?view=azure-python"
   ]
  },
  {
   "cell_type": "code",
   "execution_count": 5,
   "metadata": {},
   "outputs": [],
   "source": [
    "from azure.core.credentials import AzureKeyCredential\n",
    "from azure.ai.textanalytics import TextAnalyticsClient\n",
    "endpoint = \"https://my-language.cognitiveservices.azure.com/\"\n",
    "key = \"9e6ddd21e2b04bbc8e20cb94a6f11f61\"\n",
    "\n",
    "text_analytics_client = TextAnalyticsClient(endpoint, AzureKeyCredential(key))"
   ]
  },
  {
   "cell_type": "code",
   "execution_count": 6,
   "metadata": {},
   "outputs": [],
   "source": [
    "documents = [\"I hated the movie. It was so slow!\", \"The movie made it into my top ten favorites. What a great movie!\"]"
   ]
  },
  {
   "cell_type": "code",
   "execution_count": 7,
   "metadata": {},
   "outputs": [],
   "source": [
    "response = text_analytics_client.analyze_sentiment(documents)\n",
    "successful_responses = [doc for doc in response if not doc.is_error]"
   ]
  },
  {
   "cell_type": "code",
   "execution_count": 9,
   "metadata": {},
   "outputs": [
    {
     "data": {
      "text/plain": [
       "[AnalyzeSentimentResult(id=0, sentiment=negative, warnings=[], statistics=None, confidence_scores=SentimentConfidenceScores(positive=0.03, neutral=0.05, negative=0.92), sentences=[SentenceSentiment(text=I hated the movie. , sentiment=negative, confidence_scores=SentimentConfidenceScores(positive=0.01, neutral=0.02, negative=0.97), length=19, offset=0, mined_opinions=[]), SentenceSentiment(text=It was so slow!, sentiment=negative, confidence_scores=SentimentConfidenceScores(positive=0.04, neutral=0.08, negative=0.88), length=15, offset=19, mined_opinions=[])], is_error=False, kind=SentimentAnalysis),\n",
       " AnalyzeSentimentResult(id=1, sentiment=positive, warnings=[], statistics=None, confidence_scores=SentimentConfidenceScores(positive=0.9, neutral=0.09, negative=0.02), sentences=[SentenceSentiment(text=The movie made it into my top ten favorites. , sentiment=positive, confidence_scores=SentimentConfidenceScores(positive=0.8, neutral=0.17, negative=0.03), length=45, offset=0, mined_opinions=[]), SentenceSentiment(text=What a great movie!, sentiment=positive, confidence_scores=SentimentConfidenceScores(positive=0.99, neutral=0.0, negative=0.0), length=19, offset=45, mined_opinions=[])], is_error=False, kind=SentimentAnalysis)]"
      ]
     },
     "execution_count": 9,
     "metadata": {},
     "output_type": "execute_result"
    }
   ],
   "source": [
    "successful_responses"
   ]
  },
  {
   "cell_type": "markdown",
   "metadata": {},
   "source": [
    "##### Recognize Entities"
   ]
  },
  {
   "cell_type": "markdown",
   "metadata": {},
   "source": [
    "Reference:\n",
    "- https://learn.microsoft.com/en-us/python/api/overview/azure/ai-textanalytics-readme?view=azure-python#recognize-entities\n",
    "- https://azuresdkdocs.blob.core.windows.net/$web/python/azure-ai-textanalytics/latest/azure.ai.textanalytics.html#azure.ai.textanalytics.TextAnalyticsClient.recognize_entities"
   ]
  },
  {
   "cell_type": "code",
   "execution_count": 16,
   "metadata": {},
   "outputs": [],
   "source": [
    "import typing"
   ]
  },
  {
   "cell_type": "code",
   "execution_count": 15,
   "metadata": {},
   "outputs": [],
   "source": [
    "reviews = [\n",
    "    \"\"\"I work for Foo Company, and we hired Contoso for our annual founding ceremony. The food\n",
    "    was amazing and we all can't say enough good words about the quality and the level of service.\"\"\",\n",
    "    \"\"\"We at the Foo Company re-hired Contoso after all of our past successes with the company.\n",
    "    Though the food was still great, I feel there has been a quality drop since their last time\n",
    "    catering for us. Is anyone else running into the same problem?\"\"\",\n",
    "    \"\"\"Bar Company is over the moon about the service we received from Contoso, the best sliders ever!!!!\"\"\"\n",
    "]"
   ]
  },
  {
   "cell_type": "code",
   "execution_count": 17,
   "metadata": {},
   "outputs": [
    {
     "name": "stdout",
     "output_type": "stream",
     "text": [
      "Entity 'Foo Company' has category 'Organization'\n",
      "Entity 'Contoso' has category 'Person'\n",
      "Entity 'annual' has category 'DateTime'\n",
      "Entity 'founding ceremony' has category 'Event'\n",
      "Entity 'food' has category 'Product'\n",
      "Entity 'Foo Company' has category 'Organization'\n",
      "Entity 'Contoso' has category 'Person'\n",
      "Entity 'food' has category 'Product'\n",
      "Entity 'Bar Company' has category 'Organization'\n",
      "Entity 'service' has category 'Skill'\n",
      "Entity 'Contoso' has category 'Person'\n",
      "Entity 'sliders' has category 'Product'\n",
      "\n",
      "\n",
      "Organization 'Foo Company' has left us the following review(s): I work for Foo Company, and we hired Contoso for our annual founding ceremony. The food\n",
      "    was amazing and we all can't say enough good words about the quality and the level of service.\n",
      "\n",
      "We at the Foo Company re-hired Contoso after all of our past successes with the company.\n",
      "    Though the food was still great, I feel there has been a quality drop since their last time\n",
      "    catering for us. Is anyone else running into the same problem?\n",
      "\n",
      "\n",
      "Organization 'Bar Company' has left us the following review(s): Bar Company is over the moon about the service we received from Contoso, the best sliders ever!!!!\n"
     ]
    }
   ],
   "source": [
    "result = text_analytics_client.recognize_entities(reviews)\n",
    "result = [review for review in result if not review.is_error]\n",
    "organization_to_reviews: typing.Dict[str, typing.List[str]] = {}\n",
    "\n",
    "for idx, review in enumerate(result):\n",
    "    for entity in review.entities:\n",
    "        print(f\"Entity '{entity.text}' has category '{entity.category}'\")\n",
    "        if entity.category == 'Organization':\n",
    "            organization_to_reviews.setdefault(entity.text, [])\n",
    "            organization_to_reviews[entity.text].append(reviews[idx])\n",
    "\n",
    "for organization, reviews in organization_to_reviews.items():\n",
    "    print(\n",
    "        \"\\n\\nOrganization '{}' has left us the following review(s): {}\".format(\n",
    "            organization, \"\\n\\n\".join(reviews)\n",
    "        )\n",
    "    )"
   ]
  },
  {
   "cell_type": "code",
   "execution_count": 18,
   "metadata": {},
   "outputs": [],
   "source": [
    "request = [\"Microsoft Copilot とは何ですか？\"]"
   ]
  },
  {
   "cell_type": "code",
   "execution_count": 19,
   "metadata": {},
   "outputs": [
    {
     "data": {
      "text/plain": [
       "[RecognizeEntitiesResult(id=0, entities=[CategorizedEntity(text=Microsoft, category=Organization, subcategory=None, length=9, offset=0, confidence_score=0.81)], warnings=[], statistics=None, is_error=False, kind=EntityRecognition)]"
      ]
     },
     "execution_count": 19,
     "metadata": {},
     "output_type": "execute_result"
    }
   ],
   "source": [
    "result = text_analytics_client.recognize_entities(request, language=\"ja\")\n",
    "result"
   ]
  },
  {
   "cell_type": "markdown",
   "metadata": {},
   "source": [
    "##### Extract Key Phrases"
   ]
  },
  {
   "cell_type": "markdown",
   "metadata": {},
   "source": [
    "Reference:\n",
    "https://learn.microsoft.com/en-us/python/api/overview/azure/ai-textanalytics-readme?view=azure-python#extract-key-phrases"
   ]
  },
  {
   "cell_type": "code",
   "execution_count": 13,
   "metadata": {},
   "outputs": [],
   "source": [
    "articles = [\n",
    "    \"\"\"\n",
    "    Washington, D.C. Autumn in DC is a uniquely beautiful season. The leaves fall from the trees\n",
    "    in a city chock-full of forests, leaving yellow leaves on the ground and a clearer view of the\n",
    "    blue sky above...\n",
    "    \"\"\",\n",
    "    \"\"\"\n",
    "    Redmond, WA. In the past few days, Microsoft has decided to further postpone the start date of\n",
    "    its United States workers, due to the pandemic that rages with no end in sight...\n",
    "    \"\"\",\n",
    "    \"\"\"\n",
    "    Redmond, WA. Employees at Microsoft can be excited about the new coffee shop that will open on campus\n",
    "    once workers no longer have to work remotely...\n",
    "    \"\"\"\n",
    "]"
   ]
  },
  {
   "cell_type": "code",
   "execution_count": 14,
   "metadata": {},
   "outputs": [
    {
     "name": "stdout",
     "output_type": "stream",
     "text": [
      "Key phrases in article #1: D.C. Autumn, beautiful season, clearer view, blue sky, yellow leaves, Washington, DC, trees, city, forests, ground\n",
      "Key phrases in article #2: United States workers, start date, Redmond, WA, past, days, Microsoft, pandemic, end, sight\n",
      "Key phrases in article #3: new coffee shop, Redmond, WA, Employees, Microsoft, campus, workers\n"
     ]
    }
   ],
   "source": [
    "result = text_analytics_client.extract_key_phrases(articles)\n",
    "for idx, doc in enumerate(result):\n",
    "    if not doc.is_error:\n",
    "        print(\"Key phrases in article #{}: {}\".format(\n",
    "            idx + 1,\n",
    "            \", \".join(doc.key_phrases)\n",
    "        ))"
   ]
  },
  {
   "cell_type": "code",
   "execution_count": 20,
   "metadata": {},
   "outputs": [],
   "source": [
    "request = [\"Microsoft Copilot とは何ですか？\"]"
   ]
  },
  {
   "cell_type": "code",
   "execution_count": 22,
   "metadata": {},
   "outputs": [
    {
     "data": {
      "text/plain": [
       "[ExtractKeyPhrasesResult(id=0, key_phrases=['Microsoft Copilot'], warnings=[], statistics=None, is_error=False, kind=KeyPhraseExtraction)]"
      ]
     },
     "execution_count": 22,
     "metadata": {},
     "output_type": "execute_result"
    }
   ],
   "source": [
    "result = text_analytics_client.extract_key_phrases(request, language=\"ja\")\n",
    "result"
   ]
  },
  {
   "cell_type": "code",
   "execution_count": null,
   "metadata": {},
   "outputs": [],
   "source": []
  }
 ],
 "metadata": {
  "kernelspec": {
   "display_name": ".venv",
   "language": "python",
   "name": "python3"
  },
  "language_info": {
   "codemirror_mode": {
    "name": "ipython",
    "version": 3
   },
   "file_extension": ".py",
   "mimetype": "text/x-python",
   "name": "python",
   "nbconvert_exporter": "python",
   "pygments_lexer": "ipython3",
   "version": "3.11.4"
  }
 },
 "nbformat": 4,
 "nbformat_minor": 2
}
