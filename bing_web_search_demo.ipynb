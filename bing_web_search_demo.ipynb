{
 "cells": [
  {
   "cell_type": "markdown",
   "metadata": {},
   "source": [
    "#### Bing Web Search"
   ]
  },
  {
   "cell_type": "markdown",
   "metadata": {},
   "source": [
    "##### Use Python to call the Bing Web Search API"
   ]
  },
  {
   "cell_type": "markdown",
   "metadata": {},
   "source": [
    "Reference:\n",
    "- https://learn.microsoft.com/en-us/bing/search-apis/bing-web-search/quickstarts/sdk/web-search-client-library-python"
   ]
  },
  {
   "cell_type": "code",
   "execution_count": 1,
   "metadata": {},
   "outputs": [],
   "source": [
    "subscription_key = \"014ca419b5a24af98e83400e26e7d3e8\"\n",
    "assert subscription_key"
   ]
  },
  {
   "cell_type": "code",
   "execution_count": 2,
   "metadata": {},
   "outputs": [],
   "source": [
    "search_url = \"https://api.bing.microsoft.com/v7.0/search\""
   ]
  },
  {
   "cell_type": "code",
   "execution_count": 3,
   "metadata": {},
   "outputs": [],
   "source": [
    "search_term = \"Microsoft Bing Search Services\""
   ]
  },
  {
   "cell_type": "code",
   "execution_count": 4,
   "metadata": {},
   "outputs": [],
   "source": [
    "import requests"
   ]
  },
  {
   "cell_type": "code",
   "execution_count": 5,
   "metadata": {},
   "outputs": [],
   "source": [
    "headers = {\"Ocp-Apim-Subscription-Key\": subscription_key}\n",
    "params = {\"q\": search_term, \"textDecorations\": True, \"textFormat\": \"HTML\"}\n",
    "response = requests.get(search_url, headers=headers, params=params)\n",
    "response.raise_for_status()\n",
    "search_results = response.json()"
   ]
  },
  {
   "cell_type": "code",
   "execution_count": 6,
   "metadata": {},
   "outputs": [],
   "source": [
    "from IPython.display import HTML"
   ]
  },
  {
   "cell_type": "code",
   "execution_count": 7,
   "metadata": {},
   "outputs": [
    {
     "data": {
      "text/html": [
       "<table><tr>\n",
       "                       <td><a href=\"https://learn.microsoft.com/ja-jp/microsoftsearch/overview-microsoft-search-bing\">Bingでの Microsoft Search の概要 | Microsoft Learn</a></td>\n",
       "                       <td><b>Bing</b>の <b>Microsoft</b> <b>Search</b> は、<b>Microsoft</b> <b>Search</b> と <b>Bing</b> Web 検索の機能を組み合わせています。 ユーザーがorganizationと Web から関連する結果を見つけるのに役立つ、使い慣れた検索エクスペリエンスを提供します。 ユーザーとデータ</td>\n",
       "                     </tr>\n",
       "<tr>\n",
       "                       <td><a href=\"https://www.microsoft.com/ja-jp/edge/features/the-new-bing\">新しいBingの紹介。検索用の AI を利用したアシスタント。</a></td>\n",
       "                       <td>新しい<b>Bing</b>を使用して回答の概要を取得したり、下書きや画像を作成したりする方法を学びます。 今すぐ体験する tips</td>\n",
       "                     </tr>\n",
       "<tr>\n",
       "                       <td><a href=\"https://azure.microsoft.com/ja-jp/pricing/details/cognitive-services/search-api/\">価格 - Bing Search API v7 | Microsoft Azure</a></td>\n",
       "                       <td><b>Bing</b> <b>Search</b> API は 、AI サービス プラットフォーム から <b>Microsoft</b>.com の新しいサーフェス領域に移行しています。. 2020 年 10 月 30 日 以降では、AI <b>Services</b> を介してプロビジョニングされた <b>Bing</b> <b>Search</b> API の既存のインスタンスは、3 年間、またはそれぞれの Enterprise ...</td>\n",
       "                     </tr>\n",
       "<tr>\n",
       "                       <td><a href=\"https://learn.microsoft.com/en-us/bing/search-apis/bing-web-search/create-bing-search-service-resource\">Create Bing Search Services Resource - Bing Search Services</a></td>\n",
       "                       <td>Here are the steps to create a <b>Bing</b> <b>Search</b> Service resource through Azure Marketplace and get your key. Go to Azure Portal and sign in with your <b>Microsoft</b> account. If you don&#39;t have a <b>Microsoft</b> account, click Create one!. From the portal, type <b>Bing</b> in the <b>search</b> box.</td>\n",
       "                     </tr>\n",
       "<tr>\n",
       "                       <td><a href=\"https://learn.microsoft.com/ja-jp/bing/search-apis/\">Bing Search Services developer documentation | Microsoft Learn</a></td>\n",
       "                       <td><b>Bing</b> <b>Search</b> <b>Services</b> developer documentation. Official developer documentation for <b>Bing</b> <b>Search</b> <b>Services</b>. Learn how to build web-connected apps and <b>services</b> that find webpages, images, news, videos, and more without advertisements.</td>\n",
       "                     </tr>\n",
       "<tr>\n",
       "                       <td><a href=\"https://news.microsoft.com/ja-jp/2023/02/08/230208-reinventing-search-with-a-new-ai-powered-microsoft-bing-and-edge-your-copilot-for-the-web/\">AI を搭載した新たな Microsoft Bing と Edge が検索を再発明 ...</a></td>\n",
       "                       <td>今日、人々が検索とウェブからより多くのものを得られるよう支援するために、<b>マイクロソフト</b>は AI コパイロットとチャット機能を搭載した <b>Bing</b> と Edge を発表します。 1 日あたり 100 億件の検索クエリが行われていますが、その半分は回答を得られていないと<b>マイクロソフト</b>は推定しています。 それは、人々が検索エンジンを、本来想定されていないことに使っているからです。 ウェブサイトを探すのには最適ですが、より複雑な質問やタスクには不十分なことがよくあります。 新しい <b>Bing</b> と Edge – ウェブの副操縦士 <b>マイクロソフト</b>は、検索、ブラウジング、チャットをひとつにまとめ、ウェブ上のどこからでも呼び出せる統合的体験を実現しました。 この体験は以下を実現します:</td>\n",
       "                     </tr>\n",
       "<tr>\n",
       "                       <td><a href=\"https://blogs.windows.com/japan/2019/05/23/welcome-to-microsoft-search-intelligent-search-for-the-modern/\">Microsoft Search 入門: 現代の職場にふさわしいインテリジェント ...</a></td>\n",
       "                       <td><b>Microsoft Search</b> は、<b>Bing</b> の人工知能 (AI) テクノロジと <b>Microsoft</b> Graph の高度にパーソナライズされたインサイトを応用して、検索を効率化します。 タスクを終わらせたいときでも、中断した作業を再開したいときでも、答えやインサイトを探しているときでも、クリック 1 つであらゆるアプリケーション、デスクトップ、ブラウザーから検索を実行できます。 <b>Microsoft Search</b> は、 Office 、 Outlook 、 SharePoint 、 OneDrive 、 <b>Bing</b> 、 Windows をはじめとして、いつも使用しているアプリケーションのヘッダーなど、どこからでも利用できます。</td>\n",
       "                     </tr>\n",
       "<tr>\n",
       "                       <td><a href=\"https://blogs.microsoft.com/blog/2023/02/07/reinventing-search-with-a-new-ai-powered-microsoft-bing-and-edge-your-copilot-for-the-web/\">Reinventing search with a new AI-powered Microsoft Bing ...</a></td>\n",
       "                       <td>To empower people to unlock the joy of discovery, feel the wonder of creation and better harness the world’s knowledge, today we’re improving how the world benefits from the web by reinventing the tools billions of people use every day, the <b>search</b> engine and the browser. Today, we’re launching an all new, AI-powered <b>Bing</b> <b>search</b>...</td>\n",
       "                     </tr>\n",
       "<tr>\n",
       "                       <td><a href=\"https://learn.microsoft.com/en-us/bing/search-apis/bing-custom-search/overview\">What is the Bing Custom Search API? - Bing Search Services</a></td>\n",
       "                       <td>Custom <b>Search</b> API — Lets your users <b>search</b> for webpages and more from the domains and sites specified in your custom <b>search</b> instance. Custom Image API — Lets your users <b>search</b> for images from the domains and sites</td>\n",
       "                     </tr></table>"
      ],
      "text/plain": [
       "<IPython.core.display.HTML object>"
      ]
     },
     "execution_count": 7,
     "metadata": {},
     "output_type": "execute_result"
    }
   ],
   "source": [
    "rows = \"\\n\".join([\"\"\"<tr>\n",
    "                       <td><a href=\\\"{0}\\\">{1}</a></td>\n",
    "                       <td>{2}</td>\n",
    "                     </tr>\"\"\".format(v[\"url\"], v[\"name\"], v[\"snippet\"])\n",
    "                  for v in search_results[\"webPages\"][\"value\"]])\n",
    "HTML(\"<table>{0}</table>\".format(rows))"
   ]
  },
  {
   "cell_type": "code",
   "execution_count": 8,
   "metadata": {},
   "outputs": [],
   "source": [
    "import json\n",
    "\n",
    "json_string = json.dumps(search_results, ensure_ascii=False)\n",
    "with open(\"bing_test.json\", \"w\", encoding=\"utf-8\") as file:\n",
    "    file.write(json_string)"
   ]
  },
  {
   "cell_type": "code",
   "execution_count": 9,
   "metadata": {},
   "outputs": [
    {
     "data": {
      "text/plain": [
       "{'webSearchUrl': 'https://www.bing.com/search?q=Microsoft+Bing+Search+Services',\n",
       " 'totalEstimatedMatches': 3300000,\n",
       " 'value': [{'id': 'https://api.bing.microsoft.com/api/v7/#WebPages.0',\n",
       "   'name': 'Bingでの Microsoft Search の概要 | Microsoft Learn',\n",
       "   'url': 'https://learn.microsoft.com/ja-jp/microsoftsearch/overview-microsoft-search-bing',\n",
       "   'datePublished': '2024-02-12T00:00:00.0000000',\n",
       "   'datePublishedDisplayText': '2024年2月12日',\n",
       "   'isFamilyFriendly': True,\n",
       "   'displayUrl': 'https://learn.<b>microsoft</b>.com/ja-jp/<b>microsoftsearch</b>/...',\n",
       "   'snippet': '<b>Bing</b>の <b>Microsoft</b> <b>Search</b> は、<b>Microsoft</b> <b>Search</b> と <b>Bing</b> Web 検索の機能を組み合わせています。 ユーザーがorganizationと Web から関連する結果を見つけるのに役立つ、使い慣れた検索エクスペリエンスを提供します。 ユーザーとデータ',\n",
       "   'dateLastCrawled': '2024-02-25T14:16:00.0000000Z',\n",
       "   'searchTags': [{'name': 'search.appverid',\n",
       "     'content': '&quot;BFB160&quot;; bfb160'},\n",
       "    {'name': 'search.appverid', 'content': '&quot;MET150&quot;; met150'},\n",
       "    {'name': 'search.appverid', 'content': '&quot;MOE150&quot;; moe150'}],\n",
       "   'cachedPageUrl': 'http://cc.bingj.com/cache.aspx?q=Microsoft+Bing+Search+Services&d=4947669548142844&mkt=ja-JP&setlang=ja-JP&w=7DrT7bQcI7DJ8K0n3Ha7g01WALvA_36L',\n",
       "   'language': 'ja',\n",
       "   'isNavigational': True},\n",
       "  {'id': 'https://api.bing.microsoft.com/api/v7/#WebPages.1',\n",
       "   'name': '新しいBingの紹介。検索用の AI を利用したアシスタント。',\n",
       "   'url': 'https://www.microsoft.com/ja-jp/edge/features/the-new-bing',\n",
       "   'datePublished': '2024-02-24T00:00:00.0000000',\n",
       "   'datePublishedFreshnessText': '2 日前',\n",
       "   'isFamilyFriendly': True,\n",
       "   'displayUrl': 'https://www.<b>microsoft</b>.com/ja-jp/edge/features/the-new-<b>bing</b>',\n",
       "   'snippet': '新しい<b>Bing</b>を使用して回答の概要を取得したり、下書きや画像を作成したりする方法を学びます。 今すぐ体験する tips',\n",
       "   'dateLastCrawled': '2024-02-25T16:25:00.0000000Z',\n",
       "   'cachedPageUrl': 'http://cc.bingj.com/cache.aspx?q=Microsoft+Bing+Search+Services&d=4528991840829454&mkt=ja-JP&setlang=ja-JP&w=vnKHfLw3h3ALjAEABOxREtEy3W_y7Ddq',\n",
       "   'language': 'ja',\n",
       "   'isNavigational': False},\n",
       "  {'id': 'https://api.bing.microsoft.com/api/v7/#WebPages.2',\n",
       "   'name': '価格 - Bing Search API v7 | Microsoft Azure',\n",
       "   'url': 'https://azure.microsoft.com/ja-jp/pricing/details/cognitive-services/search-api/',\n",
       "   'isFamilyFriendly': True,\n",
       "   'displayUrl': 'https://azure.<b>microsoft</b>.com/.../<b>search</b>-api',\n",
       "   'snippet': '<b>Bing</b> <b>Search</b> API は 、AI サービス プラットフォーム から <b>Microsoft</b>.com の新しいサーフェス領域に移行しています。. 2020 年 10 月 30 日 以降では、AI <b>Services</b> を介してプロビジョニングされた <b>Bing</b> <b>Search</b> API の既存のインスタンスは、3 年間、またはそれぞれの Enterprise ...',\n",
       "   'dateLastCrawled': '2024-02-24T08:09:00.0000000Z',\n",
       "   'cachedPageUrl': 'http://cc.bingj.com/cache.aspx?q=Microsoft+Bing+Search+Services&d=4934307902466805&mkt=ja-JP&setlang=ja-JP&w=DeooaVAki6XD3R_TvWN-hvsTl_G3CLTc',\n",
       "   'language': 'ja',\n",
       "   'isNavigational': False},\n",
       "  {'id': 'https://api.bing.microsoft.com/api/v7/#WebPages.3',\n",
       "   'name': 'Create Bing Search Services Resource - Bing Search Services',\n",
       "   'url': 'https://learn.microsoft.com/en-us/bing/search-apis/bing-web-search/create-bing-search-service-resource',\n",
       "   'datePublished': '2024-02-15T00:00:00.0000000',\n",
       "   'datePublishedDisplayText': '2024年2月15日',\n",
       "   'isFamilyFriendly': True,\n",
       "   'displayUrl': 'https://learn.<b>microsoft</b>.com/en-us/<b>bing</b>/<b>search</b>-apis/<b>bing</b>...',\n",
       "   'snippet': 'Here are the steps to create a <b>Bing</b> <b>Search</b> Service resource through Azure Marketplace and get your key. Go to Azure Portal and sign in with your <b>Microsoft</b> account. If you don&#39;t have a <b>Microsoft</b> account, click Create one!. From the portal, type <b>Bing</b> in the <b>search</b> box.',\n",
       "   'dateLastCrawled': '2024-02-25T22:11:00.0000000Z',\n",
       "   'cachedPageUrl': 'http://cc.bingj.com/cache.aspx?q=Microsoft+Bing+Search+Services&d=5007275110516869&mkt=ja-JP&setlang=ja-JP&w=NN7Yg3nwPuHlC8ta5qUrjAzBffK0C0OG',\n",
       "   'language': 'en',\n",
       "   'isNavigational': False},\n",
       "  {'id': 'https://api.bing.microsoft.com/api/v7/#WebPages.4',\n",
       "   'name': 'Bing Search Services developer documentation | Microsoft Learn',\n",
       "   'url': 'https://learn.microsoft.com/ja-jp/bing/search-apis/',\n",
       "   'isFamilyFriendly': True,\n",
       "   'displayUrl': 'https://learn.<b>microsoft</b>.com/ja-jp/<b>bing</b>/<b>search</b>-apis',\n",
       "   'snippet': '<b>Bing</b> <b>Search</b> <b>Services</b> developer documentation. Official developer documentation for <b>Bing</b> <b>Search</b> <b>Services</b>. Learn how to build web-connected apps and <b>services</b> that find webpages, images, news, videos, and more without advertisements.',\n",
       "   'dateLastCrawled': '2024-01-18T15:35:00.0000000Z',\n",
       "   'cachedPageUrl': 'http://cc.bingj.com/cache.aspx?q=Microsoft+Bing+Search+Services&d=4896662506117706&mkt=ja-JP&setlang=ja-JP&w=hg3o1ZcxLvGyvq1QLSKGV3nnAPDja0V8',\n",
       "   'language': 'ja',\n",
       "   'isNavigational': False},\n",
       "  {'id': 'https://api.bing.microsoft.com/api/v7/#WebPages.5',\n",
       "   'name': 'AI を搭載した新たな Microsoft Bing と Edge が検索を再発明 ...',\n",
       "   'url': 'https://news.microsoft.com/ja-jp/2023/02/08/230208-reinventing-search-with-a-new-ai-powered-microsoft-bing-and-edge-your-copilot-for-the-web/',\n",
       "   'datePublished': '2023-02-08T00:00:00.0000000',\n",
       "   'datePublishedDisplayText': '2023年2月8日',\n",
       "   'isFamilyFriendly': True,\n",
       "   'displayUrl': 'https://news.<b>microsoft</b>.com/ja-jp/2023/02/08/230208...',\n",
       "   'snippet': '今日、人々が検索とウェブからより多くのものを得られるよう支援するために、<b>マイクロソフト</b>は AI コパイロットとチャット機能を搭載した <b>Bing</b> と Edge を発表します。 1 日あたり 100 億件の検索クエリが行われていますが、その半分は回答を得られていないと<b>マイクロソフト</b>は推定しています。 それは、人々が検索エンジンを、本来想定されていないことに使っているからです。 ウェブサイトを探すのには最適ですが、より複雑な質問やタスクには不十分なことがよくあります。 新しい <b>Bing</b> と Edge – ウェブの副操縦士 <b>マイクロソフト</b>は、検索、ブラウジング、チャットをひとつにまとめ、ウェブ上のどこからでも呼び出せる統合的体験を実現しました。 この体験は以下を実現します:',\n",
       "   'dateLastCrawled': '2024-02-24T21:06:00.0000000Z',\n",
       "   'cachedPageUrl': 'http://cc.bingj.com/cache.aspx?q=Microsoft+Bing+Search+Services&d=4721870236418523&mkt=ja-JP&setlang=ja-JP&w=CWvp3VAj4XRjQh0Ae1nXTyI4jqsfZZLI',\n",
       "   'language': 'ja',\n",
       "   'isNavigational': False},\n",
       "  {'id': 'https://api.bing.microsoft.com/api/v7/#WebPages.6',\n",
       "   'name': 'Microsoft Search 入門: 現代の職場にふさわしいインテリジェント ...',\n",
       "   'url': 'https://blogs.windows.com/japan/2019/05/23/welcome-to-microsoft-search-intelligent-search-for-the-modern/',\n",
       "   'datePublished': '2019-05-23T00:00:00.0000000',\n",
       "   'datePublishedDisplayText': '2019年5月23日',\n",
       "   'isFamilyFriendly': True,\n",
       "   'displayUrl': 'https://blogs.windows.com/japan/2019/05/23/welcome-to...',\n",
       "   'snippet': '<b>Microsoft Search</b> は、<b>Bing</b> の人工知能 (AI) テクノロジと <b>Microsoft</b> Graph の高度にパーソナライズされたインサイトを応用して、検索を効率化します。 タスクを終わらせたいときでも、中断した作業を再開したいときでも、答えやインサイトを探しているときでも、クリック 1 つであらゆるアプリケーション、デスクトップ、ブラウザーから検索を実行できます。 <b>Microsoft Search</b> は、 Office 、 Outlook 、 SharePoint 、 OneDrive 、 <b>Bing</b> 、 Windows をはじめとして、いつも使用しているアプリケーションのヘッダーなど、どこからでも利用できます。',\n",
       "   'dateLastCrawled': '2024-02-23T19:11:00.0000000Z',\n",
       "   'cachedPageUrl': 'http://cc.bingj.com/cache.aspx?q=Microsoft+Bing+Search+Services&d=4598621855023188&mkt=ja-JP&setlang=ja-JP&w=KR3JoNK42FsrNgQxOR3jslabgmFdr4Ov',\n",
       "   'language': 'ja',\n",
       "   'isNavigational': False},\n",
       "  {'id': 'https://api.bing.microsoft.com/api/v7/#WebPages.7',\n",
       "   'name': 'Reinventing search with a new AI-powered Microsoft Bing ...',\n",
       "   'url': 'https://blogs.microsoft.com/blog/2023/02/07/reinventing-search-with-a-new-ai-powered-microsoft-bing-and-edge-your-copilot-for-the-web/',\n",
       "   'datePublished': '2023-02-07T00:00:00.0000000',\n",
       "   'datePublishedDisplayText': '2023年2月7日',\n",
       "   'isFamilyFriendly': True,\n",
       "   'displayUrl': 'https://blogs.<b>microsoft</b>.com/blog/2023/02/07/reinventing...',\n",
       "   'snippet': 'To empower people to unlock the joy of discovery, feel the wonder of creation and better harness the world’s knowledge, today we’re improving how the world benefits from the web by reinventing the tools billions of people use every day, the <b>search</b> engine and the browser. Today, we’re launching an all new, AI-powered <b>Bing</b> <b>search</b>...',\n",
       "   'dateLastCrawled': '2024-02-24T07:01:00.0000000Z',\n",
       "   'cachedPageUrl': 'http://cc.bingj.com/cache.aspx?q=Microsoft+Bing+Search+Services&d=4559537653571938&mkt=ja-JP&setlang=ja-JP&w=8a4F_6Tr3oIZcBm5yqldvJre05VdVJFp',\n",
       "   'language': 'en',\n",
       "   'isNavigational': False},\n",
       "  {'id': 'https://api.bing.microsoft.com/api/v7/#WebPages.8',\n",
       "   'name': 'What is the Bing Custom Search API? - Bing Search Services',\n",
       "   'url': 'https://learn.microsoft.com/en-us/bing/search-apis/bing-custom-search/overview',\n",
       "   'datePublished': '2022-09-27T00:00:00.0000000',\n",
       "   'datePublishedDisplayText': '2022年9月27日',\n",
       "   'isFamilyFriendly': True,\n",
       "   'displayUrl': 'https://learn.<b>microsoft</b>.com/en-us/<b>bing</b>/<b>search</b>-apis/<b>bing</b>...',\n",
       "   'snippet': 'Custom <b>Search</b> API — Lets your users <b>search</b> for webpages and more from the domains and sites specified in your custom <b>search</b> instance. Custom Image API — Lets your users <b>search</b> for images from the domains and sites',\n",
       "   'dateLastCrawled': '2024-02-24T20:08:00.0000000Z',\n",
       "   'cachedPageUrl': 'http://cc.bingj.com/cache.aspx?q=Microsoft+Bing+Search+Services&d=5052290652590299&mkt=ja-JP&setlang=ja-JP&w=3gfvWtdYFNv5hCrBZ4HG6NoAPzhec4to',\n",
       "   'language': 'en',\n",
       "   'isNavigational': False}]}"
      ]
     },
     "execution_count": 9,
     "metadata": {},
     "output_type": "execute_result"
    }
   ],
   "source": [
    "search_results[\"webPages\"]"
   ]
  },
  {
   "cell_type": "code",
   "execution_count": 10,
   "metadata": {},
   "outputs": [],
   "source": [
    "search_term = \"Microsoft Copilot\""
   ]
  },
  {
   "cell_type": "code",
   "execution_count": 11,
   "metadata": {},
   "outputs": [],
   "source": [
    "headers = {\"Ocp-Apim-Subscription-Key\": subscription_key}\n",
    "params = {\"q\": search_term, \"textDecorations\": True, \"textFormat\": \"HTML\"}\n",
    "response = requests.get(search_url, headers=headers, params=params)\n",
    "response.raise_for_status()\n",
    "search_results = response.json()"
   ]
  },
  {
   "cell_type": "code",
   "execution_count": 12,
   "metadata": {},
   "outputs": [
    {
     "data": {
      "text/html": [
       "<table><tr>\n",
       "                       <td><a href=\"https://copilot.microsoft.com/\">Microsoft Copilot: Your everyday AI companion</a></td>\n",
       "                       <td><b>Microsoft Copilot</b> leverages the power of AI to boost productivity, unlock creativity, and helps you understand information better with a simple chat experience. Sign in to experience <b>Microsoft Copilot</b></td>\n",
       "                     </tr>\n",
       "<tr>\n",
       "                       <td><a href=\"https://www.microsoft.com/ja-jp/microsoft-copilot\">Microsoft Copilot | Microsoft AI</a></td>\n",
       "                       <td>Microsoft Copilot は、個人やビジネスの作業を効率化し、創造性をブーストする AI サービスです。Copilot は、Microsoft 365 アプリや Azure プラットフォームで利用でき、さまざまなロールやシーンに対応しています。</td>\n",
       "                     </tr>\n",
       "<tr>\n",
       "                       <td><a href=\"https://adoption.microsoft.com/ja-jp/copilot/\">Copilot for Microsoft 365 – Microsoft Adoption</a></td>\n",
       "                       <td>Microsoft Copilot は、大規模言語モデル (LLM) と組織のデータを組み合わせて、Word、Excel、PowerPoint などの Microsoft 365 アプリと連携して、言葉を最強な生産性ツールに変えます。このページでは、Copilot の概要、準備方法、コミュニティ、リソース、新機能などを紹介します。</td>\n",
       "                     </tr>\n",
       "<tr>\n",
       "                       <td><a href=\"https://support.microsoft.com/ja-jp/windows/windows-%E3%81%AE-copilot-%E3%81%B8%E3%82%88%E3%81%86%E3%81%93%E3%81%9D-675708af-8c16-4675-afeb-85a5a476ccb0\">Windows の Copilot へようこそ - Microsoft サポート</a></td>\n",
       "                       <td>Windows は、一元化された AI 支援をユーザーに提供する最初の PC プラットフォームです。. <b>Microsoft Copilot</b> (旧称: Bing チャット) と共に、Windows の <b>Copilot</b> は、Web 全体から回答やインスピレーションを得たり、創造性とコラボレーションをサポートしたり、目の前の ...</td>\n",
       "                     </tr>\n",
       "<tr>\n",
       "                       <td><a href=\"https://www.microsoft.com/ja-jp/microsoft-365/microsoft-copilot\">Microsoft Copilot for Microsoft 365 - 機能とプラン | Microsoft 365</a></td>\n",
       "                       <td>Microsoft Copilot for Microsoft 365 は、AI アシスタントを活用して、文章やドキュメントを作成・編集することができるサービスです。個人、一般法人、大企業の場合に対応したプランを選択でき、Microsoft 365 のアプリで Copilot を利用することができます。</td>\n",
       "                     </tr>\n",
       "<tr>\n",
       "                       <td><a href=\"https://www.microsoft.com/en-us/microsoft-copilot\">Microsoft Copilot | Microsoft AI</a></td>\n",
       "                       <td>Microsoft Copilot is a personal and business AI assistant that helps you create, sell, and operate with next-generation AI. Try the free version or upgrade to Copilot Pro for premium features and access to select Microsoft 365 apps.</td>\n",
       "                     </tr>\n",
       "<tr>\n",
       "                       <td><a href=\"https://www.microsoft.com/ja-jp/microsoft-365/enterprise/copilot-for-microsoft-365\">Microsoft Copilot for Microsoft 365 | Microsoft 365</a></td>\n",
       "                       <td>Microsoft Copilot for Microsoft 365 は、仕事関連の複雑なタスクを解決するための AI アシスタントです。Word、PowerPoint、Excel、Outlook、Teams、Loop などの Microsoft 365 アプリで Copilot を利用でき、生産性を拡大し、人間の創造性を増幅します。</td>\n",
       "                     </tr>\n",
       "<tr>\n",
       "                       <td><a href=\"https://news.microsoft.com/ja-jp/2023/11/28/231128-microsoft-copilot-officially-launched-on-december-1-introduction-of-features-for-individual-customers/\">Microsoft Copilot (現 Bing Chat、Copilot in Windows) を 12 ...</a></td>\n",
       "                       <td>Microsoft Copilot は、Bing Chat と Bing Chat Enterprise を統合した、ウェブやデバイス上で行うことすべてに Copilot が貢献する AI サポートエンジンです。OpenAI の GPT-4、Code 生成、画像生成の技術を活用し、検索やコードの理解、要約、確認、実装などをサポートします。</td>\n",
       "                     </tr>\n",
       "<tr>\n",
       "                       <td><a href=\"https://news.microsoft.com/ja-jp/2023/09/22/230922-announcing-microsoft-copilot-your-everyday-ai-companion/\">AI があなたの毎日を支援する、Microsoft Copilot を発表</a></td>\n",
       "                       <td><b>Copilot</b> は、Windows 11 の無償アップデートの一部として、9 月 26 日から初期バージョンとして展開されます。. 今秋には、Bing、Edge、<b>Microsoft</b> 365 にも対応します。. また、生産性を高め、創造性を刺激し、人々や企業の日常的なニーズに応える、エキサイティング ...</td>\n",
       "                     </tr></table>"
      ],
      "text/plain": [
       "<IPython.core.display.HTML object>"
      ]
     },
     "execution_count": 12,
     "metadata": {},
     "output_type": "execute_result"
    }
   ],
   "source": [
    "rows = \"\\n\".join([\"\"\"<tr>\n",
    "                       <td><a href=\\\"{0}\\\">{1}</a></td>\n",
    "                       <td>{2}</td>\n",
    "                     </tr>\"\"\".format(v[\"url\"], v[\"name\"], v[\"snippet\"])\n",
    "                  for v in search_results[\"webPages\"][\"value\"]])\n",
    "HTML(\"<table>{0}</table>\".format(rows))"
   ]
  },
  {
   "cell_type": "code",
   "execution_count": 25,
   "metadata": {},
   "outputs": [],
   "source": [
    "def get_reference(response: requests.models.Response) -> str:\n",
    "    search_results = response.json()\n",
    "    reference = \"\"\n",
    "    for v in search_results[\"webPages\"][\"value\"]:\n",
    "        print(v[\"snippet\"])\n",
    "        reference += v[\"snippet\"]\n",
    "        reference += \"\\n\"\n",
    "    return reference"
   ]
  },
  {
   "cell_type": "code",
   "execution_count": 26,
   "metadata": {},
   "outputs": [
    {
     "name": "stdout",
     "output_type": "stream",
     "text": [
      "<b>Microsoft Copilot</b> leverages the power of AI to boost productivity, unlock creativity, and helps you understand information better with a simple chat experience. Sign in to experience <b>Microsoft Copilot</b>\n",
      "Microsoft Copilot は、個人やビジネスの作業を効率化し、創造性をブーストする AI サービスです。Copilot は、Microsoft 365 アプリや Azure プラットフォームで利用でき、さまざまなロールやシーンに対応しています。\n",
      "Microsoft Copilot は、大規模言語モデル (LLM) と組織のデータを組み合わせて、Word、Excel、PowerPoint などの Microsoft 365 アプリと連携して、言葉を最強な生産性ツールに変えます。このページでは、Copilot の概要、準備方法、コミュニティ、リソース、新機能などを紹介します。\n",
      "Windows は、一元化された AI 支援をユーザーに提供する最初の PC プラットフォームです。. <b>Microsoft Copilot</b> (旧称: Bing チャット) と共に、Windows の <b>Copilot</b> は、Web 全体から回答やインスピレーションを得たり、創造性とコラボレーションをサポートしたり、目の前の ...\n",
      "Microsoft Copilot for Microsoft 365 は、AI アシスタントを活用して、文章やドキュメントを作成・編集することができるサービスです。個人、一般法人、大企業の場合に対応したプランを選択でき、Microsoft 365 のアプリで Copilot を利用することができます。\n",
      "Microsoft Copilot is a personal and business AI assistant that helps you create, sell, and operate with next-generation AI. Try the free version or upgrade to Copilot Pro for premium features and access to select Microsoft 365 apps.\n",
      "Microsoft Copilot for Microsoft 365 は、仕事関連の複雑なタスクを解決するための AI アシスタントです。Word、PowerPoint、Excel、Outlook、Teams、Loop などの Microsoft 365 アプリで Copilot を利用でき、生産性を拡大し、人間の創造性を増幅します。\n",
      "Microsoft Copilot は、Bing Chat と Bing Chat Enterprise を統合した、ウェブやデバイス上で行うことすべてに Copilot が貢献する AI サポートエンジンです。OpenAI の GPT-4、Code 生成、画像生成の技術を活用し、検索やコードの理解、要約、確認、実装などをサポートします。\n",
      "<b>Copilot</b> は、Windows 11 の無償アップデートの一部として、9 月 26 日から初期バージョンとして展開されます。. 今秋には、Bing、Edge、<b>Microsoft</b> 365 にも対応します。. また、生産性を高め、創造性を刺激し、人々や企業の日常的なニーズに応える、エキサイティング ...\n"
     ]
    },
    {
     "data": {
      "text/plain": [
       "'<b>Microsoft Copilot</b> leverages the power of AI to boost productivity, unlock creativity, and helps you understand information better with a simple chat experience. Sign in to experience <b>Microsoft Copilot</b>\\nMicrosoft Copilot は、個人やビジネスの作業を効率化し、創造性をブーストする AI サービスです。Copilot は、Microsoft 365 アプリや Azure プラットフォームで利用でき、さまざまなロールやシーンに対応しています。\\nMicrosoft Copilot は、大規模言語モデル (LLM) と組織のデータを組み合わせて、Word、Excel、PowerPoint などの Microsoft 365 アプリと連携して、言葉を最強な生産性ツールに変えます。このページでは、Copilot の概要、準備方法、コミュニティ、リソース、新機能などを紹介します。\\nWindows は、一元化された AI 支援をユーザーに提供する最初の PC プラットフォームです。. <b>Microsoft Copilot</b> (旧称: Bing チャット) と共に、Windows の <b>Copilot</b> は、Web 全体から回答やインスピレーションを得たり、創造性とコラボレーションをサポートしたり、目の前の ...\\nMicrosoft Copilot for Microsoft 365 は、AI アシスタントを活用して、文章やドキュメントを作成・編集することができるサービスです。個人、一般法人、大企業の場合に対応したプランを選択でき、Microsoft 365 のアプリで Copilot を利用することができます。\\nMicrosoft Copilot is a personal and business AI assistant that helps you create, sell, and operate with next-generation AI. Try the free version or upgrade to Copilot Pro for premium features and access to select Microsoft 365 apps.\\nMicrosoft Copilot for Microsoft 365 は、仕事関連の複雑なタスクを解決するための AI アシスタントです。Word、PowerPoint、Excel、Outlook、Teams、Loop などの Microsoft 365 アプリで Copilot を利用でき、生産性を拡大し、人間の創造性を増幅します。\\nMicrosoft Copilot は、Bing Chat と Bing Chat Enterprise を統合した、ウェブやデバイス上で行うことすべてに Copilot が貢献する AI サポートエンジンです。OpenAI の GPT-4、Code 生成、画像生成の技術を活用し、検索やコードの理解、要約、確認、実装などをサポートします。\\n<b>Copilot</b> は、Windows 11 の無償アップデートの一部として、9 月 26 日から初期バージョンとして展開されます。. 今秋には、Bing、Edge、<b>Microsoft</b> 365 にも対応します。. また、生産性を高め、創造性を刺激し、人々や企業の日常的なニーズに応える、エキサイティング ...\\n'"
      ]
     },
     "execution_count": 26,
     "metadata": {},
     "output_type": "execute_result"
    }
   ],
   "source": [
    "get_reference(response)"
   ]
  },
  {
   "cell_type": "markdown",
   "metadata": {},
   "source": [
    "##### Use a Bing Web Search Python client library"
   ]
  },
  {
   "cell_type": "markdown",
   "metadata": {},
   "source": [
    "Reference:\n",
    "- https://learn.microsoft.com/en-us/bing/search-apis/bing-web-search/quickstarts/sdk/web-search-client-library-python\n",
    "- https://learn.microsoft.com/en-us/answers/questions/173628/bing-search-api-returns-the-resource-not-found-err"
   ]
  },
  {
   "cell_type": "code",
   "execution_count": 1,
   "metadata": {},
   "outputs": [],
   "source": [
    "# Import required modules.\n",
    "from azure.cognitiveservices.search.websearch import WebSearchClient\n",
    "from azure.cognitiveservices.search.websearch.models import SafeSearch\n",
    "from msrest.authentication import CognitiveServicesCredentials"
   ]
  },
  {
   "cell_type": "code",
   "execution_count": 3,
   "metadata": {},
   "outputs": [
    {
     "ename": "ErrorResponseException",
     "evalue": "Operation returned an invalid status code 'Resource Not Found'",
     "output_type": "error",
     "traceback": [
      "\u001b[1;31m---------------------------------------------------------------------------\u001b[0m",
      "\u001b[1;31mErrorResponseException\u001b[0m                    Traceback (most recent call last)",
      "Cell \u001b[1;32mIn[3], line 8\u001b[0m\n\u001b[0;32m      5\u001b[0m client \u001b[38;5;241m=\u001b[39m WebSearchClient(endpoint\u001b[38;5;241m=\u001b[39m\u001b[38;5;124m\"\u001b[39m\u001b[38;5;124mhttps://api.bing.microsoft.com/v7.0/search\u001b[39m\u001b[38;5;124m\"\u001b[39m, credentials\u001b[38;5;241m=\u001b[39mCognitiveServicesCredentials(subscription_key))\n\u001b[0;32m      7\u001b[0m \u001b[38;5;66;03m# Make a request. Replace Yosemite if you'd like.\u001b[39;00m\n\u001b[1;32m----> 8\u001b[0m web_data \u001b[38;5;241m=\u001b[39m \u001b[43mclient\u001b[49m\u001b[38;5;241;43m.\u001b[39;49m\u001b[43mweb\u001b[49m\u001b[38;5;241;43m.\u001b[39;49m\u001b[43msearch\u001b[49m\u001b[43m(\u001b[49m\u001b[43mquery\u001b[49m\u001b[38;5;241;43m=\u001b[39;49m\u001b[38;5;124;43m\"\u001b[39;49m\u001b[38;5;124;43mYosemite\u001b[39;49m\u001b[38;5;124;43m\"\u001b[39;49m\u001b[43m)\u001b[49m\n\u001b[0;32m      9\u001b[0m \u001b[38;5;28mprint\u001b[39m(\u001b[38;5;124m\"\u001b[39m\u001b[38;5;130;01m\\r\u001b[39;00m\u001b[38;5;130;01m\\n\u001b[39;00m\u001b[38;5;124mSearched for Query# \u001b[39m\u001b[38;5;130;01m\\\"\u001b[39;00m\u001b[38;5;124m Yosemite \u001b[39m\u001b[38;5;130;01m\\\"\u001b[39;00m\u001b[38;5;124m\"\u001b[39m)\n\u001b[0;32m     11\u001b[0m \u001b[38;5;124;03m'''\u001b[39;00m\n\u001b[0;32m     12\u001b[0m \u001b[38;5;124;03mWeb pages\u001b[39;00m\n\u001b[0;32m     13\u001b[0m \u001b[38;5;124;03mIf the search response contains web pages, the first result's name and url\u001b[39;00m\n\u001b[0;32m     14\u001b[0m \u001b[38;5;124;03mare printed.\u001b[39;00m\n\u001b[0;32m     15\u001b[0m \u001b[38;5;124;03m'''\u001b[39;00m\n",
      "File \u001b[1;32mc:\\Users\\koyo.nakayama.ld\\Documents\\workspace\\code_interpreter\\.venv\\Lib\\site-packages\\azure\\cognitiveservices\\search\\websearch\\operations\\_web_operations.py:371\u001b[0m, in \u001b[0;36mWebOperations.search\u001b[1;34m(self, query, accept_language, pragma, user_agent, client_id, client_ip, location, answer_count, country_code, count, freshness, market, offset, promote, response_filter, safe_search, set_lang, text_decorations, text_format, custom_headers, raw, **operation_config)\u001b[0m\n\u001b[0;32m    368\u001b[0m response \u001b[38;5;241m=\u001b[39m \u001b[38;5;28mself\u001b[39m\u001b[38;5;241m.\u001b[39m_client\u001b[38;5;241m.\u001b[39msend(request, stream\u001b[38;5;241m=\u001b[39m\u001b[38;5;28;01mFalse\u001b[39;00m, \u001b[38;5;241m*\u001b[39m\u001b[38;5;241m*\u001b[39moperation_config)\n\u001b[0;32m    370\u001b[0m \u001b[38;5;28;01mif\u001b[39;00m response\u001b[38;5;241m.\u001b[39mstatus_code \u001b[38;5;129;01mnot\u001b[39;00m \u001b[38;5;129;01min\u001b[39;00m [\u001b[38;5;241m200\u001b[39m]:\n\u001b[1;32m--> 371\u001b[0m     \u001b[38;5;28;01mraise\u001b[39;00m models\u001b[38;5;241m.\u001b[39mErrorResponseException(\u001b[38;5;28mself\u001b[39m\u001b[38;5;241m.\u001b[39m_deserialize, response)\n\u001b[0;32m    373\u001b[0m deserialized \u001b[38;5;241m=\u001b[39m \u001b[38;5;28;01mNone\u001b[39;00m\n\u001b[0;32m    374\u001b[0m \u001b[38;5;28;01mif\u001b[39;00m response\u001b[38;5;241m.\u001b[39mstatus_code \u001b[38;5;241m==\u001b[39m \u001b[38;5;241m200\u001b[39m:\n",
      "\u001b[1;31mErrorResponseException\u001b[0m: Operation returned an invalid status code 'Resource Not Found'"
     ]
    }
   ],
   "source": [
    "# Replace with your subscription key.\n",
    "subscription_key = \"014ca419b5a24af98e83400e26e7d3e8\"\n",
    "\n",
    "# Instantiate the client and replace with your endpoint.\n",
    "client = WebSearchClient(endpoint=\"https://api.bing.microsoft.com/\", credentials=CognitiveServicesCredentials(subscription_key))\n",
    "\n",
    "# Make a request. Replace Yosemite if you'd like.\n",
    "web_data = client.web.search(query=\"Yosemite\")\n",
    "print(\"\\r\\nSearched for Query# \\\" Yosemite \\\"\")\n",
    "\n",
    "'''\n",
    "Web pages\n",
    "If the search response contains web pages, the first result's name and url\n",
    "are printed.\n",
    "'''\n",
    "if hasattr(web_data.web_pages, 'value'):\n",
    "\n",
    "    print(\"\\r\\nWebpage Results#{}\".format(len(web_data.web_pages.value)))\n",
    "\n",
    "    first_web_page = web_data.web_pages.value[0]\n",
    "    print(\"First web page name: {} \".format(first_web_page.name))\n",
    "    print(\"First web page URL: {} \".format(first_web_page.url))\n",
    "\n",
    "else:\n",
    "    print(\"Didn't find any web pages...\")\n",
    "\n",
    "'''\n",
    "Images\n",
    "If the search response contains images, the first result's name and url\n",
    "are printed.\n",
    "'''\n",
    "if hasattr(web_data.images, 'value'):\n",
    "\n",
    "    print(\"\\r\\nImage Results#{}\".format(len(web_data.images.value)))\n",
    "\n",
    "    first_image = web_data.images.value[0]\n",
    "    print(\"First Image name: {} \".format(first_image.name))\n",
    "    print(\"First Image URL: {} \".format(first_image.url))\n",
    "\n",
    "else:\n",
    "    print(\"Didn't find any images...\")\n",
    "\n",
    "'''\n",
    "News\n",
    "If the search response contains news, the first result's name and url\n",
    "are printed.\n",
    "'''\n",
    "if hasattr(web_data.news, 'value'):\n",
    "\n",
    "    print(\"\\r\\nNews Results#{}\".format(len(web_data.news.value)))\n",
    "\n",
    "    first_news = web_data.news.value[0]\n",
    "    print(\"First News name: {} \".format(first_news.name))\n",
    "    print(\"First News URL: {} \".format(first_news.url))\n",
    "\n",
    "else:\n",
    "    print(\"Didn't find any news...\")\n",
    "\n",
    "'''\n",
    "If the search response contains videos, the first result's name and url\n",
    "are printed.\n",
    "'''\n",
    "if hasattr(web_data.videos, 'value'):\n",
    "\n",
    "    print(\"\\r\\nVideos Results#{}\".format(len(web_data.videos.value)))\n",
    "\n",
    "    first_video = web_data.videos.value[0]\n",
    "    print(\"First Videos name: {} \".format(first_video.name))\n",
    "    print(\"First Videos URL: {} \".format(first_video.url))\n",
    "\n",
    "else:\n",
    "    print(\"Didn't find any videos...\")"
   ]
  },
  {
   "cell_type": "code",
   "execution_count": null,
   "metadata": {},
   "outputs": [],
   "source": []
  }
 ],
 "metadata": {
  "kernelspec": {
   "display_name": ".venv",
   "language": "python",
   "name": "python3"
  },
  "language_info": {
   "codemirror_mode": {
    "name": "ipython",
    "version": 3
   },
   "file_extension": ".py",
   "mimetype": "text/x-python",
   "name": "python",
   "nbconvert_exporter": "python",
   "pygments_lexer": "ipython3",
   "version": "3.11.4"
  }
 },
 "nbformat": 4,
 "nbformat_minor": 2
}
